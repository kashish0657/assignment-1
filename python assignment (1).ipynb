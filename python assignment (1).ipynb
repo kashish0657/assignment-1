{
 "cells": [
  {
   "cell_type": "markdown",
   "id": "d95c5627-ecb0-48cb-91e1-ca8d3663816d",
   "metadata": {},
   "source": [
    "# python assignment"
   ]
  },
  {
   "cell_type": "code",
   "execution_count": null,
   "id": "d3463060-32bd-4238-9d63-402bf892d657",
   "metadata": {},
   "outputs": [],
   "source": [
    "1.ans:- Guido Van Rossum"
   ]
  },
  {
   "cell_type": "code",
   "execution_count": null,
   "id": "35d22eb6-3481-41fb-81ed-1e15aa839c01",
   "metadata": {},
   "outputs": [],
   "source": [
    "2.ans:- Object Oriented Programming  and\n",
    "        Structured Programming"
   ]
  },
  {
   "cell_type": "code",
   "execution_count": null,
   "id": "10e6917c-ea6a-4a31-ba7e-4ccff4be9304",
   "metadata": {},
   "outputs": [],
   "source": [
    "3.ans:- Yes, python case is a sensitive language."
   ]
  },
  {
   "cell_type": "code",
   "execution_count": null,
   "id": "448f4798-041c-4d5f-a684-f22fcc703f95",
   "metadata": {},
   "outputs": [],
   "source": [
    "4.ans:- .py , .pyi"
   ]
  },
  {
   "cell_type": "code",
   "execution_count": null,
   "id": "d81a102e-82bc-4ca3-aadb-d372cfa4059c",
   "metadata": {},
   "outputs": [],
   "source": [
    "5.ans:- Interpreted language"
   ]
  },
  {
   "cell_type": "code",
   "execution_count": null,
   "id": "b2244941-7013-4f6c-add4-cebe399a9912",
   "metadata": {},
   "outputs": [],
   "source": [
    "6.ans:- Indentation"
   ]
  },
  {
   "cell_type": "code",
   "execution_count": null,
   "id": "08d068d6-fc41-4f49-a0a9-2edc5e208669",
   "metadata": {},
   "outputs": [],
   "source": [
    "7.ans:- Hash character #"
   ]
  },
  {
   "cell_type": "code",
   "execution_count": null,
   "id": "ea040136-6bfc-41b4-8680-e60b57718e21",
   "metadata": {},
   "outputs": [],
   "source": [
    "8.ans:- Function sys.version"
   ]
  },
  {
   "cell_type": "code",
   "execution_count": null,
   "id": "1a1cb1ff-17d4-47af-b7b5-acbac7fafbf1",
   "metadata": {},
   "outputs": [],
   "source": [
    "9.ans:- Lambda"
   ]
  },
  {
   "cell_type": "code",
   "execution_count": null,
   "id": "4aa440f5-6230-4766-ab2d-5335a47d73ad",
   "metadata": {},
   "outputs": [],
   "source": [
    "10.ans:- Preffered Installer Program"
   ]
  },
  {
   "cell_type": "code",
   "execution_count": null,
   "id": "e42426eb-1bbb-4f24-b57e-14740fe033a4",
   "metadata": {},
   "outputs": [],
   "source": [
    "11.ans:- chr() , bool() , compile() , complex() , dict() , bytes() "
   ]
  },
  {
   "cell_type": "code",
   "execution_count": null,
   "id": "a5318a1a-5272-40a6-a436-ec893499b1dd",
   "metadata": {},
   "outputs": [],
   "source": [
    "12.ans:- 79 Characters"
   ]
  },
  {
   "cell_type": "code",
   "execution_count": null,
   "id": "f9a05fa3-5724-4a57-910a-1de4bcbf30ae",
   "metadata": {},
   "outputs": [],
   "source": [
    "13.ans:- Developing website and software ,\n",
    "            Task Automation , \n",
    "            Data Analysis,\n",
    "            Data Visualization"
   ]
  },
  {
   "cell_type": "code",
   "execution_count": null,
   "id": "f8d66153-6b50-482b-b812-90a9a6df7372",
   "metadata": {},
   "outputs": [],
   "source": [
    "14.ans:- Ensured internally by the python memory manager."
   ]
  },
  {
   "cell_type": "code",
   "execution_count": null,
   "id": "9c8f7ae5-fef1-4362-9f04-8f57f6d5423e",
   "metadata": {},
   "outputs": [],
   "source": [
    "15.ans:- step:1- Type 'python' in windows search bar.\n",
    "        step:2-  Right click on 'python' app and then select open file location.\n",
    "        step:3-  Right click again on the python shortcut , and then select open file location.\n",
    "        "
   ]
  },
  {
   "cell_type": "code",
   "execution_count": null,
   "id": "5ff06abb-67a1-4906-9b85-15258db82599",
   "metadata": {},
   "outputs": [],
   "source": [
    "16.ans:- The indentation in python is very important."
   ]
  }
 ],
 "metadata": {
  "kernelspec": {
   "display_name": "Python 3 (ipykernel)",
   "language": "python",
   "name": "python3"
  },
  "language_info": {
   "codemirror_mode": {
    "name": "ipython",
    "version": 3
   },
   "file_extension": ".py",
   "mimetype": "text/x-python",
   "name": "python",
   "nbconvert_exporter": "python",
   "pygments_lexer": "ipython3",
   "version": "3.10.8"
  }
 },
 "nbformat": 4,
 "nbformat_minor": 5
}
